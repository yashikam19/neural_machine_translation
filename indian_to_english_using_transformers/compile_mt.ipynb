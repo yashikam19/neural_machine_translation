{
  "cells": [
    {
      "cell_type": "code",
      "execution_count": null,
      "metadata": {
        "id": "KqTI7HJc3imX"
      },
      "outputs": [],
      "source": [
        "from google.colab import drive\n",
        "import json\n",
        "import numpy as np\n",
        "import pandas as pd\n",
        "import tensorflow as tf\n",
        "import spacy\n",
        "from collections import Counter\n",
        "from tensorflow.keras.models import Model\n",
        "from tensorflow.keras.layers import Input, LSTM, Dense\n",
        "from tensorflow.keras.preprocessing.text import Tokenizer\n",
        "from torchtext.data.metrics import bleu_score\n",
        "import torch\n",
        "import torchtext\n",
        "import torch.nn as nn\n",
        "import torch.optim as optim\n",
        "import random"
      ]
    },
    {
      "cell_type": "code",
      "execution_count": null,
      "metadata": {
        "id": "nENM1aZFVem7",
        "colab": {
          "base_uri": "https://localhost:8080/"
        },
        "outputId": "6c1a446d-7eba-4bb3-f79f-68745af32b1d"
      },
      "outputs": [
        {
          "output_type": "stream",
          "name": "stdout",
          "text": [
            "Mounted at /gdrive\n"
          ]
        }
      ],
      "source": [
        "drive.mount('/gdrive') # Only needed if your data is on google drive"
      ]
    },
    {
      "cell_type": "code",
      "source": [
        "# Read JSON data from file\n",
        "with open('/gdrive/MyDrive/Test_data2_final.json', 'r') as file:\n",
        "    test_data = json.load(file)"
      ],
      "metadata": {
        "id": "2YRYpdQ-cTFe"
      },
      "execution_count": null,
      "outputs": []
    },
    {
      "cell_type": "code",
      "execution_count": null,
      "metadata": {
        "id": "cWatomKYc1f8",
        "colab": {
          "base_uri": "https://localhost:8080/"
        },
        "outputId": "b4edbd48-b3c2-4aef-d124-7adc07f25ec4"
      },
      "outputs": [
        {
          "output_type": "stream",
          "name": "stdout",
          "text": [
            "Language Pair: English-Bengali\n",
            "  Data Type: Test\n",
            "Language Pair: English-Gujarati\n",
            "  Data Type: Test\n",
            "Language Pair: English-Hindi\n",
            "  Data Type: Test\n",
            "Language Pair: English-Kannada\n",
            "  Data Type: Test\n",
            "Language Pair: English-Malayalam\n",
            "  Data Type: Test\n",
            "Language Pair: English-Tamil\n",
            "  Data Type: Test\n",
            "Language Pair: English-Telgu\n",
            "  Data Type: Test\n"
          ]
        }
      ],
      "source": [
        "test_source = []\n",
        "valid_id = []\n",
        "len_val=[]\n",
        "\n",
        "\n",
        "for language_pair, language_data in test_data.items():\n",
        "      print(f\"Language Pair: {language_pair}\")\n",
        "      for data_type, data_entries in language_data.items():\n",
        "          print(f\"  Data Type: {data_type}\")\n",
        "          for entry_id, entry_data in data_entries.items():\n",
        "              source = entry_data[\"source\"]\n",
        "              test_source.append(source)\n",
        "              valid_id.append(entry_id)\n",
        "              len_val.append(len(source.split(' ')))"
      ]
    },
    {
      "cell_type": "code",
      "source": [
        "len(test_source)"
      ],
      "metadata": {
        "colab": {
          "base_uri": "https://localhost:8080/"
        },
        "id": "nMaZS3YeObUV",
        "outputId": "074e2d2c-398e-4eda-90ab-678a57d4c08c"
      },
      "execution_count": null,
      "outputs": [
        {
          "output_type": "execute_result",
          "data": {
            "text/plain": [
              "114647"
            ]
          },
          "metadata": {},
          "execution_count": 6
        }
      ]
    },
    {
      "cell_type": "code",
      "source": [
        "print(max(len_val))"
      ],
      "metadata": {
        "colab": {
          "base_uri": "https://localhost:8080/"
        },
        "id": "IR3JdzR-DgTx",
        "outputId": "8d806933-fadb-4f86-ae83-994f96094cf7"
      },
      "execution_count": null,
      "outputs": [
        {
          "output_type": "stream",
          "name": "stdout",
          "text": [
            "155\n"
          ]
        }
      ]
    },
    {
      "cell_type": "code",
      "source": [
        "# Define the file paths\n",
        "hindi = '/gdrive/MyDrive/phase2_hi2.csv'\n",
        "tamil = '/gdrive/MyDrive/phase2_ta2.csv'\n",
        "telugu = '/gdrive/MyDrive/phase2_tel2.csv'\n",
        "malyalam = '/gdrive/MyDrive/phase2_mal2.csv'\n",
        "kannada = '/gdrive/MyDrive/phase2_kan2.csv'\n",
        "gujarati = '/gdrive/MyDrive/phase2_guj2.csv'\n",
        "bengali = '/gdrive/MyDrive/bengali3.csv'\n",
        "\n",
        "# Read the CSV files into DataFrames\n",
        "df_hindi = pd.read_csv(hindi)\n",
        "df_tamil = pd.read_csv(tamil)\n",
        "df_telugu = pd.read_csv(telugu)\n",
        "df_malayalam = pd.read_csv(malyalam)\n",
        "df_kannada = pd.read_csv(kannada)\n",
        "df_gujarati = pd.read_csv(gujarati)\n",
        "df_bengali = pd.read_csv(bengali)\n",
        "\n",
        "ID = []\n",
        "Translation=[]\n",
        "\n",
        "for ids in df_bengali[\"valid_id\"]:\n",
        "  ID.append(ids)\n",
        "for p in df_bengali[\"english_pred\"]:\n",
        "  Translation.append(p)\n",
        "\n",
        "for ids in df_gujarati[\"valid_id\"]:\n",
        "  ID.append(ids)\n",
        "for p in df_gujarati[\"english_pred\"]:\n",
        "  Translation.append(p)\n",
        "\n",
        "for ids in df_hindi[\"valid_id\"]:\n",
        "  ID.append(ids)\n",
        "for p in df_hindi[\"english_pred\"]:\n",
        "  Translation.append(p)\n",
        "\n",
        "for ids in df_kannada[\"valid_id\"]:\n",
        "  ID.append(ids)\n",
        "for p in df_kannada[\"english_pred\"]:\n",
        "  Translation.append(p)\n",
        "\n",
        "for ids in df_malayalam[\"valid_id\"]:\n",
        "  ID.append(ids)\n",
        "for p in df_malayalam[\"english_pred\"]:\n",
        "  Translation.append(p)\n",
        "\n",
        "for ids in df_tamil[\"valid_id\"]:\n",
        "  ID.append(ids)\n",
        "for p in df_tamil[\"english_pred\"]:\n",
        "  Translation.append(p)\n",
        "\n",
        "for ids in df_telugu[\"valid_id\"]:\n",
        "  ID.append(ids)\n",
        "for p in df_telugu[\"english_pred\"]:\n",
        "  Translation.append(p)\n"
      ],
      "metadata": {
        "id": "TkHAyVIUrd8V"
      },
      "execution_count": null,
      "outputs": []
    },
    {
      "cell_type": "code",
      "source": [
        "ID = [str(element) for element in ID]"
      ],
      "metadata": {
        "id": "PP8a9mG31joT"
      },
      "execution_count": null,
      "outputs": []
    },
    {
      "cell_type": "code",
      "source": [
        "for i in range(len(ID)):\n",
        "  if (ID[i]!=valid_id[i]):\n",
        "     print(\"ww\")\n",
        "     break"
      ],
      "metadata": {
        "id": "Vd7afL040FzC"
      },
      "execution_count": null,
      "outputs": []
    },
    {
      "cell_type": "code",
      "source": [
        "import csv\n",
        "\n",
        "# Create a list of dictionaries where each dictionary represents a row\n",
        "data = [{'ID': ID[i], 'Translation': Translation[i]} for i in range(len(ID))]\n",
        "\n",
        "# Specify the CSV file path\n",
        "csv_file_path = '/gdrive/MyDrive/answer_p2.csv'\n",
        "\n",
        "# Define the column names\n",
        "fields = ['ID', 'Translation']\n",
        "\n",
        "# Write the data to the CSV file\n",
        "with open(csv_file_path, 'w', newline='') as csvfile:\n",
        "    writer = csv.DictWriter(csvfile, fieldnames=fields, delimiter='\\t',quoting=csv.QUOTE_ALL)\n",
        "    writer.writeheader()\n",
        "    writer.writerows(data)\n",
        "\n",
        "print(f'Saved predictions to {csv_file_path}')"
      ],
      "metadata": {
        "colab": {
          "base_uri": "https://localhost:8080/"
        },
        "id": "rWPgDlRQyEoh",
        "outputId": "c3c497b5-8665-460c-b4eb-5db6753c0e5f"
      },
      "execution_count": null,
      "outputs": [
        {
          "output_type": "stream",
          "name": "stdout",
          "text": [
            "Saved predictions to /gdrive/MyDrive/answer_final.csv\n"
          ]
        }
      ]
    }
  ],
  "metadata": {
    "colab": {
      "provenance": [],
      "gpuType": "T4"
    },
    "kernelspec": {
      "display_name": "Python 3",
      "name": "python3"
    },
    "language_info": {
      "name": "python"
    },
    "accelerator": "GPU"
  },
  "nbformat": 4,
  "nbformat_minor": 0
}